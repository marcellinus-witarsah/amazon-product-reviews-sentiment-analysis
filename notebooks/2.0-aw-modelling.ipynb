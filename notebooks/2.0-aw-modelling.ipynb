{
 "cells": [
  {
   "cell_type": "code",
   "execution_count": 4,
   "metadata": {},
   "outputs": [],
   "source": [
    "%reload_ext autoreload\n",
    "%autoreload 2\n",
    "\n",
    "import os\n",
    "import sys\n",
    "import mlflow\n",
    "import pandas as pd\n",
    "import numpy as np\n",
    "import matplotlib.pyplot as plt\n",
    "from dotenv import find_dotenv, load_dotenv\n",
    "from sklearn.model_selection import train_test_split\n",
    "from sklearn.feature_extraction.text import CountVectorizer, TfidfVectorizer\n",
    "from sklearn.pipeline import Pipeline\n",
    "from sklearn.naive_bayes import MultinomialNB\n",
    "from sklearn.metrics import accuracy_score, precision_score, recall_score, f1_score\n",
    "from sklearn.metrics import ConfusionMatrixDisplay\n",
    "\n",
    "# Insert project folder into Python System\n",
    "load_dotenv(find_dotenv())\n",
    "sys.path.append(os.getenv(\"PROJECT_FOLDER\"))"
   ]
  },
  {
   "cell_type": "markdown",
   "metadata": {},
   "source": [
    "# CountVectorizer + MultinomialNB"
   ]
  },
  {
   "cell_type": "code",
   "execution_count": 9,
   "metadata": {},
   "outputs": [
    {
     "name": "stderr",
     "output_type": "stream",
     "text": [
      "2024/02/29 17:20:34 INFO mlflow.tracking.fluent: Experiment with name 'Sentiment Classification' does not exist. Creating a new experiment.\n",
      "c:\\Users\\923006079\\AppData\\Local\\anaconda3\\envs\\nlp-tools\\lib\\site-packages\\mlflow\\types\\utils.py:393: UserWarning: Hint: Inferred schema contains integer column(s). Integer columns in Python cannot represent missing values. If your input data contains missing values at inference time, it will be encoded as floats and will cause a schema enforcement error. The best way to avoid this problem is to infer the model schema based on a realistic data sample (training dataset) that includes missing values. Alternatively, you can declare integer columns as doubles (float64) whenever these columns may have missing values. See `Handling Integers With Missing Values <https://www.mlflow.org/docs/latest/models.html#handling-integers-with-missing-values>`_ for more details.\n",
      "  warnings.warn(\n",
      "c:\\Users\\923006079\\AppData\\Local\\anaconda3\\envs\\nlp-tools\\lib\\site-packages\\_distutils_hack\\__init__.py:18: UserWarning: Distutils was imported before Setuptools, but importing Setuptools also replaces the `distutils` module in `sys.modules`. This may lead to undesirable behaviors or errors. To avoid these issues, avoid using distutils directly, ensure that setuptools is installed in the traditional way (e.g. not an editable install), and/or make sure that setuptools is always imported before distutils.\n",
      "  warnings.warn(\n",
      "c:\\Users\\923006079\\AppData\\Local\\anaconda3\\envs\\nlp-tools\\lib\\site-packages\\_distutils_hack\\__init__.py:33: UserWarning: Setuptools is replacing distutils.\n",
      "  warnings.warn(\"Setuptools is replacing distutils.\")\n"
     ]
    }
   ],
   "source": [
    "\"\"\" MODEL TRAINING \"\"\"\n",
    "mlflow.set_tracking_uri(\"./mlruns\")  # Set tracking server (aka file)\n",
    "mlflow.set_experiment(\"Sentiment Classification\")  # Set experiment\n",
    "run_name = \"countvec-multinomialnb-run\"  # set run name\n",
    "artifact_path = \"countvec-multinomialnb\"  # set artifact path\n",
    "\n",
    "# load Data\n",
    "df = pd.read_csv(\"../data/processed/sample-clean-data.csv\")\n",
    "\n",
    "# Split Data\n",
    "df['sentiment'] = df['sentiment'].map({\"positive\": 1, \"negative\": 0}) \n",
    "X, y = df.loc[:, ~df.columns.isin(['sentiment'])], df[['sentiment']]\n",
    "X_train, X_test, y_train, y_test = train_test_split(X, y, stratify=y, test_size=0.3, shuffle=True, random_state=42)\n",
    "X_val, X_test, y_val, y_test = train_test_split(X_test, y_test, stratify=y_test, test_size=0.5, shuffle=True, random_state=42)\n",
    "\n",
    "# Modelling\n",
    "params = {}  # means using default params\n",
    "model = Pipeline([\n",
    "    ('CountVectorizer', CountVectorizer()),\n",
    "    ('MultinomialNB', MultinomialNB(**params))\n",
    "])\n",
    "model.fit(X_train['preprocessed_review_text'], y_train['sentiment'])\n",
    "signature = mlflow.models.infer_signature(X_train[['preprocessed_review_text']], y_train)\n",
    "\n",
    "# Evaluate Model\n",
    "metrics = {\n",
    "    \"training_precision_score\": precision_score(y_train['sentiment'], model.predict(X_train['preprocessed_review_text'])),\n",
    "    \"training_recall_score\": recall_score(y_train['sentiment'], model.predict(X_train['preprocessed_review_text'])),\n",
    "    \"training_f1_score\": f1_score(y_train['sentiment'], model.predict(X_train['preprocessed_review_text'])),\n",
    "    \"validation_precision_score\": precision_score(y_val['sentiment'], model.predict(X_val['preprocessed_review_text'])),\n",
    "    \"validation_recall_score\": recall_score(y_val['sentiment'], model.predict(X_val['preprocessed_review_text'])),\n",
    "    \"validation_f1_score\": f1_score(y_val['sentiment'], model.predict(X_val['preprocessed_review_text'])),\n",
    "    \"test_precision_score\": precision_score(y_test['sentiment'], model.predict(X_test['preprocessed_review_text'])),\n",
    "    \"test_recall_score\": recall_score(y_test['sentiment'], model.predict(X_test['preprocessed_review_text'])),\n",
    "    \"test_f1_score\": f1_score(y_test['sentiment'], model.predict(X_test['preprocessed_review_text']))\n",
    "}\n",
    "\n",
    "with mlflow.start_run(run_name=run_name):\n",
    "    # log hyperparameters\n",
    "    mlflow.log_params(params)\n",
    "\n",
    "    # log metrics\n",
    "    mlflow.log_metrics(metrics)\n",
    "    \n",
    "    # Log model\n",
    "    mlflow.sklearn.log_model(\n",
    "        sk_model=model,\n",
    "        artifact_path=artifact_path,\n",
    "        signature=signature\n",
    "    )"
   ]
  },
  {
   "cell_type": "markdown",
   "metadata": {},
   "source": [
    "# TfidfVectorizer + MultinomialNB"
   ]
  },
  {
   "cell_type": "code",
   "execution_count": 10,
   "metadata": {},
   "outputs": [
    {
     "name": "stderr",
     "output_type": "stream",
     "text": [
      "c:\\Users\\923006079\\AppData\\Local\\anaconda3\\envs\\nlp-tools\\lib\\site-packages\\mlflow\\types\\utils.py:393: UserWarning: Hint: Inferred schema contains integer column(s). Integer columns in Python cannot represent missing values. If your input data contains missing values at inference time, it will be encoded as floats and will cause a schema enforcement error. The best way to avoid this problem is to infer the model schema based on a realistic data sample (training dataset) that includes missing values. Alternatively, you can declare integer columns as doubles (float64) whenever these columns may have missing values. See `Handling Integers With Missing Values <https://www.mlflow.org/docs/latest/models.html#handling-integers-with-missing-values>`_ for more details.\n",
      "  warnings.warn(\n",
      "c:\\Users\\923006079\\AppData\\Local\\anaconda3\\envs\\nlp-tools\\lib\\site-packages\\_distutils_hack\\__init__.py:18: UserWarning: Distutils was imported before Setuptools, but importing Setuptools also replaces the `distutils` module in `sys.modules`. This may lead to undesirable behaviors or errors. To avoid these issues, avoid using distutils directly, ensure that setuptools is installed in the traditional way (e.g. not an editable install), and/or make sure that setuptools is always imported before distutils.\n",
      "  warnings.warn(\n",
      "c:\\Users\\923006079\\AppData\\Local\\anaconda3\\envs\\nlp-tools\\lib\\site-packages\\_distutils_hack\\__init__.py:33: UserWarning: Setuptools is replacing distutils.\n",
      "  warnings.warn(\"Setuptools is replacing distutils.\")\n"
     ]
    }
   ],
   "source": [
    "\"\"\" MODEL TRAINING \"\"\"\n",
    "mlflow.set_tracking_uri(\"./mlruns\")  # Set tracking server (aka file)\n",
    "mlflow.set_experiment(\"Sentiment Classification\")  # Set experiment\n",
    "run_name = \"tfidf-multinomialnb-run\"  # set run name\n",
    "artifact_path = \"tfidf-multinomialnb\"  # set artifact path\n",
    "\n",
    "# load Data\n",
    "df = pd.read_csv(\"../data/processed/sample-clean-data.csv\")\n",
    "\n",
    "# Split Data\n",
    "df['sentiment'] = df['sentiment'].map({\"positive\": 1, \"negative\": 0}) \n",
    "X, y = df.loc[:, ~df.columns.isin(['sentiment'])], df[['sentiment']]\n",
    "X_train, X_test, y_train, y_test = train_test_split(X, y, stratify=y, test_size=0.3, shuffle=True, random_state=42)\n",
    "X_val, X_test, y_val, y_test = train_test_split(X_test, y_test, stratify=y_test, test_size=0.5, shuffle=True, random_state=42)\n",
    "\n",
    "# Modelling\n",
    "params = {}  # means using default params\n",
    "model = Pipeline([\n",
    "    ('TfidfVectorizer', TfidfVectorizer()),\n",
    "    ('MultinomialNB', MultinomialNB(**params))\n",
    "])\n",
    "model.fit(X_train['preprocessed_review_text'], y_train['sentiment'])\n",
    "signature = mlflow.models.infer_signature(X_train[['preprocessed_review_text']], y_train)\n",
    "\n",
    "# Evaluate Model\n",
    "metrics = {\n",
    "    \"training_precision_score\": precision_score(y_train['sentiment'], model.predict(X_train['preprocessed_review_text'])),\n",
    "    \"training_recall_score\": recall_score(y_train['sentiment'], model.predict(X_train['preprocessed_review_text'])),\n",
    "    \"training_f1_score\": f1_score(y_train['sentiment'], model.predict(X_train['preprocessed_review_text'])),\n",
    "    \"validation_precision_score\": precision_score(y_val['sentiment'], model.predict(X_val['preprocessed_review_text'])),\n",
    "    \"validation_recall_score\": recall_score(y_val['sentiment'], model.predict(X_val['preprocessed_review_text'])),\n",
    "    \"validation_f1_score\": f1_score(y_val['sentiment'], model.predict(X_val['preprocessed_review_text'])),\n",
    "    \"test_precision_score\": precision_score(y_test['sentiment'], model.predict(X_test['preprocessed_review_text'])),\n",
    "    \"test_recall_score\": recall_score(y_test['sentiment'], model.predict(X_test['preprocessed_review_text'])),\n",
    "    \"test_f1_score\": f1_score(y_test['sentiment'], model.predict(X_test['preprocessed_review_text']))\n",
    "}\n",
    "\n",
    "with mlflow.start_run(run_name=run_name):\n",
    "    # log hyperparameters\n",
    "    mlflow.log_params(params)\n",
    "\n",
    "    # log metrics\n",
    "    mlflow.log_metrics(metrics)\n",
    "    \n",
    "    # Log model\n",
    "    mlflow.sklearn.log_model(\n",
    "        sk_model=model,\n",
    "        artifact_path=artifact_path,\n",
    "        signature=signature\n",
    "    )"
   ]
  }
 ],
 "metadata": {
  "kernelspec": {
   "display_name": "nlp-tools",
   "language": "python",
   "name": "python3"
  },
  "language_info": {
   "codemirror_mode": {
    "name": "ipython",
    "version": 3
   },
   "file_extension": ".py",
   "mimetype": "text/x-python",
   "name": "python",
   "nbconvert_exporter": "python",
   "pygments_lexer": "ipython3",
   "version": "3.10.13"
  }
 },
 "nbformat": 4,
 "nbformat_minor": 2
}
