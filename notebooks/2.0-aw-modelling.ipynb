{
 "cells": [
  {
   "cell_type": "code",
   "execution_count": 69,
   "metadata": {},
   "outputs": [],
   "source": [
    "%reload_ext autoreload\n",
    "%autoreload 2\n",
    "import pandas as pd\n",
    "import os\n",
    "import sys\n",
    "from dotenv import find_dotenv, load_dotenv\n",
    "from sklearn.model_selection import train_test_split\n",
    "\n",
    "# Insert project folder into Python System\n",
    "load_dotenv(find_dotenv())\n",
    "sys.path.append(os.getenv(\"PROJECT_FOLDER\"))"
   ]
  },
  {
   "cell_type": "code",
   "execution_count": 70,
   "metadata": {},
   "outputs": [
    {
     "name": "stdout",
     "output_type": "stream",
     "text": [
      "<class 'pandas.core.frame.DataFrame'>\n",
      "Index: 36868 entries, 0 to 36927\n",
      "Data columns (total 5 columns):\n",
      " #   Column                    Non-Null Count  Dtype \n",
      "---  ------                    --------------  ----- \n",
      " 0   date                      36868 non-null  object\n",
      " 1   category                  36868 non-null  object\n",
      " 2   sentiment                 36868 non-null  object\n",
      " 3   preprocessed_review_text  36868 non-null  object\n",
      " 4   id                        36868 non-null  int64 \n",
      "dtypes: int64(1), object(4)\n",
      "memory usage: 1.7+ MB\n"
     ]
    },
    {
     "data": {
      "text/plain": [
       "None"
      ]
     },
     "metadata": {},
     "output_type": "display_data"
    },
    {
     "data": {
      "text/html": [
       "<div>\n",
       "<style scoped>\n",
       "    .dataframe tbody tr th:only-of-type {\n",
       "        vertical-align: middle;\n",
       "    }\n",
       "\n",
       "    .dataframe tbody tr th {\n",
       "        vertical-align: top;\n",
       "    }\n",
       "\n",
       "    .dataframe thead th {\n",
       "        text-align: right;\n",
       "    }\n",
       "</style>\n",
       "<table border=\"1\" class=\"dataframe\">\n",
       "  <thead>\n",
       "    <tr style=\"text-align: right;\">\n",
       "      <th></th>\n",
       "      <th>date</th>\n",
       "      <th>category</th>\n",
       "      <th>sentiment</th>\n",
       "      <th>preprocessed_review_text</th>\n",
       "      <th>id</th>\n",
       "    </tr>\n",
       "  </thead>\n",
       "  <tbody>\n",
       "    <tr>\n",
       "      <th>0</th>\n",
       "      <td>1998-07-09</td>\n",
       "      <td>Digital_Music_5</td>\n",
       "      <td>positive</td>\n",
       "      <td>all-time favorite jazz recording 10 star best ...</td>\n",
       "      <td>0</td>\n",
       "    </tr>\n",
       "    <tr>\n",
       "      <th>1</th>\n",
       "      <td>1998-08-21</td>\n",
       "      <td>Digital_Music_5</td>\n",
       "      <td>negative</td>\n",
       "      <td>expected double cd known tribute day three pen...</td>\n",
       "      <td>1</td>\n",
       "    </tr>\n",
       "    <tr>\n",
       "      <th>2</th>\n",
       "      <td>2000-04-25</td>\n",
       "      <td>Digital_Music_5</td>\n",
       "      <td>positive</td>\n",
       "      <td>pretty good dug feel good oakland stroke vanes...</td>\n",
       "      <td>2</td>\n",
       "    </tr>\n",
       "    <tr>\n",
       "      <th>3</th>\n",
       "      <td>2000-04-28</td>\n",
       "      <td>Digital_Music_5</td>\n",
       "      <td>negative</td>\n",
       "      <td>people impressed must heard new beginning last...</td>\n",
       "      <td>3</td>\n",
       "    </tr>\n",
       "    <tr>\n",
       "      <th>4</th>\n",
       "      <td>2000-05-09</td>\n",
       "      <td>Digital_Music_5</td>\n",
       "      <td>positive</td>\n",
       "      <td>second album jackson browne hit creative strid...</td>\n",
       "      <td>4</td>\n",
       "    </tr>\n",
       "  </tbody>\n",
       "</table>\n",
       "</div>"
      ],
      "text/plain": [
       "         date         category sentiment  \\\n",
       "0  1998-07-09  Digital_Music_5  positive   \n",
       "1  1998-08-21  Digital_Music_5  negative   \n",
       "2  2000-04-25  Digital_Music_5  positive   \n",
       "3  2000-04-28  Digital_Music_5  negative   \n",
       "4  2000-05-09  Digital_Music_5  positive   \n",
       "\n",
       "                            preprocessed_review_text  id  \n",
       "0  all-time favorite jazz recording 10 star best ...   0  \n",
       "1  expected double cd known tribute day three pen...   1  \n",
       "2  pretty good dug feel good oakland stroke vanes...   2  \n",
       "3  people impressed must heard new beginning last...   3  \n",
       "4  second album jackson browne hit creative strid...   4  "
      ]
     },
     "metadata": {},
     "output_type": "display_data"
    }
   ],
   "source": [
    "\"\"\" LOAD DATA \"\"\"\n",
    "df = pd.read_csv(\"../data/processed/sample-clean-data.csv\")\n",
    "df = df.dropna(subset=[\"preprocessed_review_text\"])\n",
    "display(df.info())\n",
    "display(df.head())"
   ]
  },
  {
   "cell_type": "code",
   "execution_count": 78,
   "metadata": {},
   "outputs": [],
   "source": [
    "\"\"\" Split Data For Training and Testing \"\"\"\n",
    "X_columns =[\"id\", \"date\",\t\"category\", \"preprocessed_review_text\"]\n",
    "y_columns =[\"sentiment\"]\n",
    "df['sentiment'] = df['sentiment'].map({\"positive\": 1, \"negative\": 0}) \n",
    "X_train, X_test, y_train, y_test = train_test_split(df[X_columns], df[y_columns], stratify=df[y_columns], test_size=0.2, shuffle=True, random_state=42)"
   ]
  },
  {
   "cell_type": "markdown",
   "metadata": {},
   "source": [
    "Simple Baseline Model using Logistic Regression\n",
    "1. Preprocessed Text\n",
    "2. Create Count Words Positive and Negative\n",
    "3. Calculate the Laplacian\n",
    "4. Create & feed it as a feature into logistic regression"
   ]
  },
  {
   "cell_type": "code",
   "execution_count": 100,
   "metadata": {},
   "outputs": [
    {
     "name": "stderr",
     "output_type": "stream",
     "text": [
      "c:\\Users\\USER\\anaconda3\\envs\\nlp-tools\\lib\\site-packages\\sklearn\\utils\\validation.py:1300: DataConversionWarning: A column-vector y was passed when a 1d array was expected. Please change the shape of y to (n_samples, ), for example using ravel().\n",
      "  y = column_or_1d(y, warn=True)\n",
      "c:\\Users\\USER\\anaconda3\\envs\\nlp-tools\\lib\\site-packages\\sklearn\\linear_model\\_logistic.py:1407: RuntimeWarning: divide by zero encountered in log\n",
      "  return np.log(self.predict_proba(X))\n"
     ]
    },
    {
     "data": {
      "text/plain": [
       "0.7998372660699756"
      ]
     },
     "execution_count": 100,
     "metadata": {},
     "output_type": "execute_result"
    }
   ],
   "source": [
    "from sklearn.feature_extraction.text import CountVectorizer\n",
    "from sklearn.linear_model import LogisticRegression\n",
    "\n",
    "# Generating Feature using CountVectorizer\n",
    "bow_converter = CountVectorizer()\n",
    "X_train_bow = bow_converter.fit_transform(X_train['preprocessed_review_text'])\n",
    "X_test_bow = bow_converter.transform(X_test['preprocessed_review_text'])\n",
    "\n",
    "# Logistic Regression\n",
    "model = LogisticRegression()\n",
    "model.fit(X_train_bow, y_train)\n",
    "y_pred = model.predict_log_proba(X_test_bow)\n",
    "model.score(X_test_bow, y_test)"
   ]
  }
 ],
 "metadata": {
  "kernelspec": {
   "display_name": "nlp-tools",
   "language": "python",
   "name": "python3"
  },
  "language_info": {
   "codemirror_mode": {
    "name": "ipython",
    "version": 3
   },
   "file_extension": ".py",
   "mimetype": "text/x-python",
   "name": "python",
   "nbconvert_exporter": "python",
   "pygments_lexer": "ipython3",
   "version": "3.10.13"
  }
 },
 "nbformat": 4,
 "nbformat_minor": 2
}
