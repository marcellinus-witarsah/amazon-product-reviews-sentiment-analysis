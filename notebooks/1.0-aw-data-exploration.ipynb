{
 "cells": [
  {
   "cell_type": "code",
   "execution_count": 28,
   "metadata": {},
   "outputs": [],
   "source": [
    "%reload_ext autoreload\n",
    "%autoreload 2\n",
    "import pandas as pd\n",
    "import gzip\n",
    "import pathlib\n",
    "import json\n",
    "import os\n",
    "import gc\n",
    "import sys\n",
    "import seaborn as sns\n",
    "from tqdm import tqdm\n",
    "from dotenv import find_dotenv, load_dotenv\n",
    "\n",
    "# Insert project folder into Python System\n",
    "load_dotenv(find_dotenv())\n",
    "sys.path.append(os.getenv(\"PROJECT_FOLDER\"))\n",
    "from src.utils import get_data_frame"
   ]
  },
  {
   "cell_type": "code",
   "execution_count": 21,
   "metadata": {},
   "outputs": [
    {
     "name": "stdout",
     "output_type": "stream",
     "text": [
      "processing ..\\data\\raw\\All_Beauty_5.json.gz ...\n",
      "processing ..\\data\\raw\\AMAZON_FASHION_5.json.gz ...\n",
      "processing ..\\data\\raw\\Appliances_5.json.gz ...\n",
      "processing ..\\data\\raw\\Arts_Crafts_and_Sewing_5.json.gz ...\n",
      "processing ..\\data\\raw\\Automotive_5.json.gz ...\n",
      "processing ..\\data\\raw\\Gift_Cards_5.json.gz ...\n",
      "processing ..\\data\\raw\\Industrial_and_Scientific_5.json.gz ...\n",
      "processing ..\\data\\raw\\Luxury_Beauty_5.json.gz ...\n",
      "processing ..\\data\\raw\\Magazine_Subscriptions_5.json.gz ...\n",
      "processing ..\\data\\raw\\Software_5.json.gz ...\n"
     ]
    },
    {
     "data": {
      "text/plain": [
       "0"
      ]
     },
     "execution_count": 21,
     "metadata": {},
     "output_type": "execute_result"
    }
   ],
   "source": [
    "\"\"\" LOAD DATA \"\"\"\n",
    "df = pd.DataFrame({})\n",
    "for path in pathlib.Path(\"../data/raw/\").glob(\"*.gz\"):\n",
    "    print(f\"processing {path} ...\")\n",
    "    temp = get_data_frame(path)  # load .gz type data\n",
    "    temp['filename'] = path.name  # add filename\n",
    "    df = pd.concat([df, temp])\n",
    "\n",
    "\"\"\" SAMPLE DATA \"\"\"\n",
    "df = df.groupby(\"overall\").sample(10000, random_state=42)\n",
    "df.to_csv(\"../data/interim/sampled-raw-data.csv\", index=False)\n",
    "\n",
    "del df\n",
    "gc.collect()"
   ]
  },
  {
   "cell_type": "code",
   "execution_count": 22,
   "metadata": {},
   "outputs": [],
   "source": [
    "\"\"\" CLEAN DATA \"\"\"\n",
    "df = pd.read_csv(\"../data/interim/sampled-raw-data.csv\")\n",
    "df = df[[\"reviewTime\", \"filename\", \"reviewText\", \"overall\"]]  # filter data\n",
    "df = df.drop_duplicates()  # drop duplicates\n",
    "df = df.dropna(subset=['reviewText'], axis=0)  # drop missing `reviewText` columns\n",
    "df['reviewTime'] = pd.to_datetime(df['reviewTime'], format=\"%m %d, %Y\")  # reformat the date\n",
    "df = df.reset_index(drop=True)  # reset index"
   ]
  },
  {
   "cell_type": "code",
   "execution_count": 23,
   "metadata": {},
   "outputs": [],
   "source": [
    "\"\"\" DATA PREPROCESSING \"\"\"\n",
    "df[\"category\"] = df['filename'].apply(lambda x: x.split('.')[0])  # get file name and use it as product category\n",
    "df['sentiment'] = df['overall'].apply(lambda x: \"positive\" if x >= 3 else \"negative\")  # convert overall to sentiment\n",
    "df = df.sort_values(\"reviewTime\").reset_index(drop=True)"
   ]
  },
  {
   "cell_type": "code",
   "execution_count": 24,
   "metadata": {},
   "outputs": [
    {
     "data": {
      "text/plain": [
       "<Axes: xlabel='sentiment', ylabel='count'>"
      ]
     },
     "execution_count": 24,
     "metadata": {},
     "output_type": "execute_result"
    },
    {
     "data": {
      "image/png": "[encoded data removed]",
      "text/plain": [
       "<Figure size 640x480 with 1 Axes>"
      ]
     },
     "metadata": {},
     "output_type": "display_data"
    }
   ],
   "source": [
    "\"\"\" EXPLORATORY DATA ANALYSIS \"\"\"\n",
    "sns.countplot(x='sentiment', data=df)"
   ]
  },
  {
   "cell_type": "code",
   "execution_count": 49,
   "metadata": {},
   "outputs": [],
   "source": [
    "\"\"\" Text Preprocessing \"\"\"\n",
    "import nltk\n",
    "from nltk.corpus import stopwords\n",
    "from nltk.tokenize import word_tokenize\n",
    "from nltk.stem import WordNetLemmatizer\n",
    "\n",
    "lemmatizer = WordNetLemmatizer()\n",
    "preprocessed_texts = []\n",
    "stopwords_en = stopwords.words('english')\n",
    "\n",
    "def preprocess_text(text: str) -> str:\n",
    "    tokens = word_tokenize(text.lower())  # normalize, remove punctuations, and tokenize text\n",
    "    filtered_tokens = [token for token in tokens if token not in stopwords_en]  # filter stop words\n",
    "    lemmatized_tokens = [lemmatizer.lemmatize(token) for token in filtered_tokens]  # lemmatize words\n",
    "    return ' '.join(lemmatized_tokens)  # Join the tokens back into a string\n",
    "\n",
    "df['preprocessed_reviewText'] = df['reviewText'].apply(preprocess_text)\n",
    "df = df.drop(columns=['filename', 'overall', 'reviewText'])\n",
    "df = df.rename(columns={\"reviewTime\": \"date\", \"preprocessed_reviewText\": \"preprocessed_review_text\"})\n",
    "df.to_csv(\"../data/processed/sample-clean-data.csv\", index=False)"
   ]
  }
 ],
 "metadata": {
  "kernelspec": {
   "display_name": "nlp-tools",
   "language": "python",
   "name": "python3"
  },
  "language_info": {
   "codemirror_mode": {
    "name": "ipython",
    "version": 3
   },
   "file_extension": ".py",
   "mimetype": "text/x-python",
   "name": "python",
   "nbconvert_exporter": "python",
   "pygments_lexer": "ipython3",
   "version": "3.10.13"
  }
 },
 "nbformat": 4,
 "nbformat_minor": 2
}
