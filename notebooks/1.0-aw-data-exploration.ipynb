{
 "cells": [
  {
   "cell_type": "code",
   "execution_count": 3,
   "metadata": {},
   "outputs": [],
   "source": [
    "%reload_ext autoreload\n",
    "%autoreload 2\n",
    "import pandas as pd\n",
    "import pathlib\n",
    "import os\n",
    "import gc\n",
    "import sys\n",
    "import seaborn as sns\n",
    "from dotenv import find_dotenv, load_dotenv\n",
    "\n",
    "# Insert project folder into Python System\n",
    "load_dotenv(find_dotenv())\n",
    "sys.path.append(os.getenv(\"PROJECT_FOLDER\"))\n",
    "from src.utils import get_data_frame"
   ]
  },
  {
   "cell_type": "code",
   "execution_count": 17,
   "metadata": {},
   "outputs": [
    {
     "name": "stdout",
     "output_type": "stream",
     "text": [
      "processing ..\\data\\raw\\All_Beauty_5.json.gz ...\n",
      "processing ..\\data\\raw\\AMAZON_FASHION_5.json.gz ...\n",
      "processing ..\\data\\raw\\Appliances_5.json.gz ...\n",
      "processing ..\\data\\raw\\Arts_Crafts_and_Sewing_5.json.gz ...\n",
      "processing ..\\data\\raw\\Automotive_5.json.gz ...\n"
     ]
    }
   ],
   "source": [
    "\"\"\" LOAD DATA \"\"\"\n",
    "df = pd.DataFrame({})\n",
    "for path in pathlib.Path(\"../data/raw/\").glob(\"*.gz\"):\n",
    "    print(f\"processing {path} ...\")\n",
    "    temp = get_data_frame(path)  # load .gz type data\n",
    "    temp['filename'] = path.name  # add filename\n",
    "    df = pd.concat([df, temp])\n",
    "\n",
    "\"\"\" SAMPLE DATA \"\"\"\n",
    "df = df.groupby(\"overall\").sample(10000, replace=True, random_state=42)\n",
    "df.to_csv(\"../data/interim/sampled-raw-data.csv\", index=False)\n",
    "\n",
    "del df\n",
    "gc.collect()"
   ]
  },
  {
   "cell_type": "code",
   "execution_count": 8,
   "metadata": {},
   "outputs": [],
   "source": [
    "\"\"\" CLEAN DATA \"\"\"\n",
    "df = pd.read_csv(\"../data/interim/sampled-raw-data.csv\")\n",
    "df = df[[\"reviewTime\", \"filename\", \"reviewText\", \"overall\"]]  # filter data\n",
    "df = df.drop_duplicates()  # drop duplicates\n",
    "df = df.dropna(subset=['reviewText'], axis=0)  # drop missing `reviewText` columns\n",
    "df['reviewTime'] = pd.to_datetime(df['reviewTime'], format=\"%m %d, %Y\")  # reformat the date\n",
    "df['reviewText'] =df['reviewText'].str.strip()  # reformat the date\n",
    "df = df.reset_index(drop=True)  # reset index"
   ]
  },
  {
   "cell_type": "code",
   "execution_count": 9,
   "metadata": {},
   "outputs": [],
   "source": [
    "\"\"\" DATA PREPROCESSING \"\"\"\n",
    "df[\"category\"] = df['filename'].apply(lambda x: x.split('.')[0])  # get file name and use it as product category\n",
    "df['sentiment'] = df['overall'].apply(lambda x: \"positive\" if x >= 3 else \"negative\")  # convert overall to sentiment\n",
    "df = df.sort_values(\"reviewTime\").reset_index(drop=True)"
   ]
  },
  {
   "cell_type": "code",
   "execution_count": 6,
   "metadata": {},
   "outputs": [
    {
     "data": {
      "text/plain": [
       "<Axes: xlabel='sentiment', ylabel='count'>"
      ]
     },
     "execution_count": 6,
     "metadata": {},
     "output_type": "execute_result"
    },
    {
     "data": {
      "image/png": "[encoded data removed]",
      "text/plain": [
       "<Figure size 640x480 with 1 Axes>"
      ]
     },
     "metadata": {},
     "output_type": "display_data"
    }
   ],
   "source": [
    "\"\"\" EXPLORATORY DATA ANALYSIS \"\"\"\n",
    "sns.countplot(x='sentiment', data=df)"
   ]
  },
  {
   "cell_type": "code",
   "execution_count": 36,
   "metadata": {},
   "outputs": [],
   "source": [
    "\"\"\" Text Preprocessing \"\"\"\n",
    "import string\n",
    "from nltk import RegexpTokenizer\n",
    "from nltk.corpus import stopwords\n",
    "from nltk.tokenize import word_tokenize\n",
    "from nltk.stem import WordNetLemmatizer\n",
    "\n",
    "lemmatizer = WordNetLemmatizer()\n",
    "stopwords_en = stopwords.words('english')\n",
    "punctuations = string.punctuation\n",
    "preprocessed_texts = []\n",
    "\n",
    "def preprocess_text(text: str) -> str:\n",
    "    tokens = word_tokenize(text.lower())  # normalize, remove punctuations, and tokenize text\n",
    "    filtered_tokens = [token for token in tokens if token not in stopwords_en and token not in punctuations]  # filter stop words\n",
    "    lemmatized_tokens = [lemmatizer.lemmatize(token) for token in filtered_tokens]  # lemmatize words\n",
    "    return ' '.join(lemmatized_tokens)  # Join the tokens back into a string\n",
    "\n",
    "df['preprocessed_review_text'] = df['reviewText'].apply(preprocess_text)\n",
    "df = df[(df.preprocessed_review_text.apply(lambda x: len(x)) != 0)]\n",
    "df = df.dropna(subset=['preprocessed_review_text'], axis=0)\n",
    "df['id'] = df.index.to_list()\n",
    "df = df.drop(columns=['filename', 'overall', 'reviewText'])\n",
    "df = df.rename(columns={\"reviewTime\": \"date\"})\n",
    "df.to_csv(\"../data/processed/sample-clean-data.csv\", index=False)"
   ]
  }
 ],
 "metadata": {
  "kernelspec": {
   "display_name": "nlp-tools",
   "language": "python",
   "name": "python3"
  },
  "language_info": {
   "codemirror_mode": {
    "name": "ipython",
    "version": 3
   },
   "file_extension": ".py",
   "mimetype": "text/x-python",
   "name": "python",
   "nbconvert_exporter": "python",
   "pygments_lexer": "ipython3",
   "version": "3.10.13"
  }
 },
 "nbformat": 4,
 "nbformat_minor": 2
}
