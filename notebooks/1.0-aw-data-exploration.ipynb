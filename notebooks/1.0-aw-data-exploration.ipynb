{
 "cells": [
  {
   "cell_type": "code",
   "execution_count": 14,
   "metadata": {},
   "outputs": [],
   "source": [
    "%reload_ext autoreload\n",
    "%autoreload 2\n",
    "import pandas as pd\n",
    "import pathlib\n",
    "import os\n",
    "import gc\n",
    "import sys\n",
    "import seaborn as sns\n",
    "from dotenv import find_dotenv, load_dotenv\n",
    "\n",
    "# Insert project folder into Python System\n",
    "load_dotenv(find_dotenv())\n",
    "sys.path.append(os.getenv(\"PROJECT_FOLDER\"))\n",
    "from src.utils import get_data_frame"
   ]
  },
  {
   "cell_type": "markdown",
   "metadata": {},
   "source": [
    "# Sample data for Speed in Project Development (Outside of the ML Pipeline)"
   ]
  },
  {
   "cell_type": "code",
   "execution_count": 17,
   "metadata": {},
   "outputs": [
    {
     "name": "stdout",
     "output_type": "stream",
     "text": [
      "processing ..\\data\\raw\\All_Beauty_5.json.gz ...\n",
      "processing ..\\data\\raw\\AMAZON_FASHION_5.json.gz ...\n",
      "processing ..\\data\\raw\\Appliances_5.json.gz ...\n",
      "processing ..\\data\\raw\\Arts_Crafts_and_Sewing_5.json.gz ...\n",
      "processing ..\\data\\raw\\Automotive_5.json.gz ...\n"
     ]
    }
   ],
   "source": [
    "\"\"\" LOAD DATA \"\"\"\n",
    "df = pd.DataFrame({})\n",
    "for path in pathlib.Path(\"../data/raw/\").glob(\"*.gz\"):\n",
    "    print(f\"processing {path} ...\")\n",
    "    temp = get_data_frame(path)  # load .gz type data\n",
    "    df = pd.concat([df, temp])\n",
    "\n",
    "\"\"\" SAMPLE DATA \"\"\"\n",
    "df = df.groupby(\"overall\").sample(10000, replace=True, random_state=42)\n",
    "df.to_csv(\"../data/interim/sampled-raw-data.csv\", index=False)\n",
    "\n",
    "del df\n",
    "gc.collect()"
   ]
  },
  {
   "cell_type": "markdown",
   "metadata": {},
   "source": [
    "# Data Ingestion"
   ]
  },
  {
   "cell_type": "code",
   "execution_count": 15,
   "metadata": {},
   "outputs": [
    {
     "name": "stderr",
     "output_type": "stream",
     "text": [
      "2024-03-01 15:41:44,945 - __main__ - INFO - Ingesting Data from ../data/interim/sampled-raw-data.csv ...\n"
     ]
    }
   ],
   "source": [
    "import logging\n",
    "import pandas as pd\n",
    "\n",
    "class Logger:\n",
    "    def __init__(self, logger_name: str) -> None:\n",
    "        log_fmt = \"%(asctime)s - %(name)s - %(levelname)s - %(message)s\"\n",
    "        logging.basicConfig(level=logging.INFO, format=log_fmt)\n",
    "        self.logger_name = logger_name\n",
    "\n",
    "    def get_logger(self) -> logging.Logger:\n",
    "        self.logger = logging.getLogger(self.logger_name)\n",
    "        return self.logger\n",
    "\n",
    "class DataIngestion:\n",
    "    def __init__(self, data_path: str):\n",
    "        self.data_path = data_path\n",
    "        self.logger = Logger(__name__).get_logger()\n",
    "\n",
    "    def get_data(self):\n",
    "        self.logger.info(f\"Ingesting Data from {self.data_path} ...\")\n",
    "        df = pd.read_csv(self.data_path)\n",
    "        return df\n",
    "df = DataIngestion(\"../data/interim/sampled-raw-data.csv\").get_data()"
   ]
  },
  {
   "cell_type": "markdown",
   "metadata": {},
   "source": [
    "# Data Cleaning"
   ]
  },
  {
   "cell_type": "code",
   "execution_count": 16,
   "metadata": {},
   "outputs": [
    {
     "name": "stderr",
     "output_type": "stream",
     "text": [
      "2024-03-01 15:41:45,994 - __main__ - INFO - Ingesting Data from ../data/interim/sampled-raw-data.csv ...\n",
      "2024-03-01 15:41:46,305 - __main__ - INFO - Cleaning Data ...\n"
     ]
    }
   ],
   "source": [
    "import pandas as pd\n",
    "class DataCleaning:\n",
    "    def __init__(self, df: pd.DataFrame):\n",
    "        self.df = df\n",
    "        self.logger = Logger(__name__).get_logger()\n",
    "\n",
    "    def clean_data(self):\n",
    "        self.logger.info(f\"Cleaning Data ...\")\n",
    "        self.df = self.df.drop_duplicates()  # drop duplicates\n",
    "        self.df = self.df.dropna(subset=['reviewText'], axis=0)  # drop missing `reviewText` columns\n",
    "        self.df = self.df[[\"reviewText\", \"overall\"]]  # select columns\n",
    "        self.df = self.df.reset_index(drop=True)  # reset index\n",
    "        return self.df\n",
    "\n",
    "df = DataIngestion(\"../data/interim/sampled-raw-data.csv\").get_data()\n",
    "df = DataCleaning(df).clean_data()"
   ]
  },
  {
   "cell_type": "markdown",
   "metadata": {},
   "source": [
    "# Data Preprocessing"
   ]
  },
  {
   "cell_type": "code",
   "execution_count": 17,
   "metadata": {},
   "outputs": [
    {
     "name": "stderr",
     "output_type": "stream",
     "text": [
      "2024-03-01 15:41:46,741 - __main__ - INFO - Ingesting Data from ../data/interim/sampled-raw-data.csv ...\n",
      "2024-03-01 15:41:47,025 - __main__ - INFO - Cleaning Data ...\n",
      "2024-03-01 15:41:47,121 - __main__ - INFO - Labeling Data ...\n"
     ]
    }
   ],
   "source": [
    "import pandas as pd\n",
    "class DataLabeling:\n",
    "    def __init__(self, df: pd.DataFrame):\n",
    "        self.df = df\n",
    "        self.logger = Logger(__name__).get_logger()\n",
    "\n",
    "    def label_data(self):\n",
    "        self.logger.info(f\"Labeling Data ...\")\n",
    "        self.df['sentiment'] = self.df['overall'].apply(lambda x: 1 if x >= 3 else 0)  # convert overall to sentiment\n",
    "        self.df = self.df.drop(columns=['overall'])\n",
    "        return self.df\n",
    "\n",
    "df = DataIngestion(\"../data/interim/sampled-raw-data.csv\").get_data()\n",
    "df = DataCleaning(df).clean_data()\n",
    "df = DataLabeling(df).label_data()"
   ]
  },
  {
   "cell_type": "code",
   "execution_count": 18,
   "metadata": {},
   "outputs": [
    {
     "name": "stderr",
     "output_type": "stream",
     "text": [
      "2024-03-01 15:41:47,404 - __main__ - INFO - Ingesting Data from ../data/interim/sampled-raw-data.csv ...\n",
      "2024-03-01 15:41:47,705 - __main__ - INFO - Cleaning Data ...\n",
      "2024-03-01 15:41:47,823 - __main__ - INFO - Labeling Data ...\n",
      "2024-03-01 15:41:47,857 - __main__ - INFO - Preprocessing Data ...\n"
     ]
    }
   ],
   "source": [
    "import pandas as pd\n",
    "import string\n",
    "from nltk import RegexpTokenizer\n",
    "from nltk.corpus import stopwords\n",
    "from nltk.tokenize import word_tokenize\n",
    "from nltk.stem import WordNetLemmatizer\n",
    "from typing_extensions import Annotated\n",
    "\n",
    "class DataPreprocessing:\n",
    "    def __init__(self, df: pd.DataFrame):\n",
    "        self.df = df\n",
    "        self.lemmatizer = WordNetLemmatizer()\n",
    "        self.stopwords_en = stopwords.words(\"english\")\n",
    "        self.punctuations = string.punctuation\n",
    "        self.logger = Logger(__name__).get_logger()\n",
    "\n",
    "    def preprocess_text(self, text: str) -> str:\n",
    "        tokens = word_tokenize(text.lower())  # normalize, remove punctuations, and tokenize text\n",
    "        filtered_tokens = [token for token in tokens if token not in self.stopwords_en and token not in self.punctuations]  # filter stop words\n",
    "        lemmatized_tokens = [self.lemmatizer.lemmatize(token) for token in filtered_tokens]  # lemmatize words\n",
    "        return \" \".join(lemmatized_tokens)  # Join the tokens back into a string\n",
    "\n",
    "    def preprocess_data(self) -> Annotated[pd.DataFrame, \"dataset\"]:\n",
    "        self.logger.info(f\"Preprocessing Data ...\")\n",
    "        self.df[\"preprocessed_review_text\"] = self.df[\"reviewText\"].apply(self.preprocess_text)  # text preprocessing\n",
    "        self.df = self.df[(self.df[\"preprocessed_review_text\"].apply(lambda x: len(x)) != 0)]  # remove 0 length preprocess text\n",
    "        self.df = self.df[[\"preprocessed_review_text\", \"sentiment\"]]  # select columns for model training\n",
    "        return self.df\n",
    "\n",
    "df = DataIngestion(\"../data/interim/sampled-raw-data.csv\").get_data()\n",
    "df = DataCleaning(df).clean_data()\n",
    "df = DataLabeling(df).label_data()\n",
    "df = DataPreprocessing(df).preprocess_data()\n",
    "df.to_csv(\"../data/processed/sample-clean-data.csv\", index=False)"
   ]
  }
 ],
 "metadata": {
  "kernelspec": {
   "display_name": "nlp-tools",
   "language": "python",
   "name": "python3"
  },
  "language_info": {
   "codemirror_mode": {
    "name": "ipython",
    "version": 3
   },
   "file_extension": ".py",
   "mimetype": "text/x-python",
   "name": "python",
   "nbconvert_exporter": "python",
   "pygments_lexer": "ipython3",
   "version": "3.10.13"
  }
 },
 "nbformat": 4,
 "nbformat_minor": 2
}
